{
 "cells": [
  {
   "cell_type": "code",
   "execution_count": null,
   "metadata": {},
   "outputs": [],
   "source": [
    "import numpy as np\n",
    "import matplotlib.pyplot as plt\n",
    "%matplotlib notebook\n",
    "\n",
    "from modspectra import EmissionCube\n",
    "\n",
    "import astropy.coordinates as coord\n",
    "import astropy.units as u"
   ]
  },
  {
   "cell_type": "markdown",
   "metadata": {},
   "source": [
    "# Create the H-Alpha Model with Extinction"
   ]
  },
  {
   "cell_type": "code",
   "execution_count": null,
   "metadata": {},
   "outputs": [],
   "source": [
    "# Create Model\n",
    "model_ha = EmissionCube.create_DK19()"
   ]
  },
  {
   "cell_type": "code",
   "execution_count": null,
   "metadata": {},
   "outputs": [],
   "source": [
    "# Compute integrated maps in specified velocity ranges\n",
    "model_neg = model_ha.spectral_slab(-50*u.km/u.s, -110*u.km/u.s).moment(order = 0).to(u.R)\n",
    "model_pos = model_ha.spectral_slab(+50*u.km/u.s, +110*u.km/u.s).moment(order = 0).to(u.R)\n",
    "\n",
    "# Extract Coordinates\n",
    "_, lon_values = model_neg.world[:]\n",
    "\n",
    "# Coordinate Masks\n",
    "pos_lon_mask = coord.Angle(lon_values).wrap_at(\"180d\") >= 0*u.deg\n",
    "neg_lon_mask = coord.Angle(lon_values).wrap_at(\"180d\") < 0*u.deg\n",
    "\n",
    "# Mask out images to show only \"forbidden\" velocities portions\n",
    "model_neg[neg_lon_mask] = np.nan\n",
    "model_pos[pos_lon_mask] = np.nan\n"
   ]
  },
  {
   "cell_type": "markdown",
   "metadata": {},
   "source": [
    "# Figure S3"
   ]
  },
  {
   "cell_type": "code",
   "execution_count": null,
   "metadata": {},
   "outputs": [],
   "source": [
    "fig = plt.figure(figsize = (10,6))\n",
    "ax = fig.add_subplot(111, projection = model_neg.wcs)\n",
    "im = ax.imshow(model_neg.value, vmin = 0.1, vmax = 1.1, cmap = \"Blues\")\n",
    "im2 = ax.imshow(model_pos.value, vmin = 0.1, vmax = 1.1, cmap = \"Reds\")\n",
    "\n",
    "ax.invert_xaxis()\n",
    "ax.set_aspect(\"auto\")\n",
    "\n",
    "ax.set_xlabel(\"Galactic Longitude (deg)\", fontsize = 12)\n",
    "ax.set_ylabel(\"Galactic Latitude (deg)\", fontsize = 12)\n",
    "cb1 = fig.colorbar(im2, ticks = None, pad = -0.05)\n",
    "cb2 = fig.colorbar(im)\n",
    "cb1.ax.tick_params(labelsize=0) \n",
    "cb1.ax.yaxis.set_ticks_position('left')\n",
    "cb2.ax.set_title(r\"             $H\\alpha$ Intensity (R)\")\n",
    "\n",
    "ax.set_aspect(\"auto\")\n",
    "\n",
    "_ = fig.text(0.255, 0.89, r\"$-110$ km/s < $v_{{LSR}}$ < $-50$ km/s\", \n",
    "         ha=\"center\", va=\"bottom\", fontsize = 12, color = \"b\")\n",
    "\n",
    "_ = fig.text(0.555, 0.89, r\"$+50$ km/s < $v_{{LSR}}$ < $+110$ km/s\", \n",
    "         ha=\"center\", va=\"bottom\", fontsize = 12, color = \"r\")"
   ]
  },
  {
   "cell_type": "code",
   "execution_count": null,
   "metadata": {},
   "outputs": [],
   "source": []
  }
 ],
 "metadata": {
  "kernelspec": {
   "display_name": "Python 3",
   "language": "python",
   "name": "python3"
  },
  "language_info": {
   "codemirror_mode": {
    "name": "ipython",
    "version": 3
   },
   "file_extension": ".py",
   "mimetype": "text/x-python",
   "name": "python",
   "nbconvert_exporter": "python",
   "pygments_lexer": "ipython3",
   "version": "3.6.8"
  }
 },
 "nbformat": 4,
 "nbformat_minor": 2
}
