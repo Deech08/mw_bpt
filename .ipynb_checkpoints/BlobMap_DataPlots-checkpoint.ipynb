{
 "cells": [
  {
   "cell_type": "code",
   "execution_count": null,
   "metadata": {},
   "outputs": [],
   "source": [
    "import numpy as np\n",
    "\n",
    "from modspectra.cube import EmissionCube\n",
    "import astropy.units as u\n",
    "from astropy.coordinates import SkyCoord\n",
    "\n",
    "import matplotlib.pyplot as plt\n",
    "%matplotlib notebook\n",
    "import seaborn as sns\n",
    "from matplotlib.colors import LogNorm\n",
    "pal = sns.color_palette('colorblind', 10)\n",
    "\n",
    "sns.set(color_codes=True)\n",
    "sns.axes_style(\"white\")\n",
    "sns.set_style('whitegrid')\n",
    "\n",
    "import copy\n",
    "import scipy.io.idl\n",
    "import matplotlib.gridspec as gridspec"
   ]
  },
  {
   "cell_type": "code",
   "execution_count": null,
   "metadata": {},
   "outputs": [],
   "source": [
    "# Create Model\n",
    "model_ha = EmissionCube.create_DK19(resolution = (64,64,64))"
   ]
  },
  {
   "cell_type": "code",
   "execution_count": null,
   "metadata": {},
   "outputs": [],
   "source": [
    "sub_model = model_ha.spectral_slab(-110*u.km/u.s, -50*u.km/u.s)"
   ]
  },
  {
   "cell_type": "code",
   "execution_count": null,
   "metadata": {},
   "outputs": [],
   "source": [
    "# Synthetic WHAM Observation helper functions\n",
    "def wham_obs(cube, wham_pointing, moment = False, spectral_range = None, order = None):\n",
    "    # select target coordinates\n",
    "    lon = wham_pointing[\"GLON\"]\n",
    "    lat = wham_pointing[\"GLAT\"]\n",
    "    ds9_str = 'galactic; circle({0:.3}, {1:.4}, 0.5)'.format(lon, lat) \n",
    "    subcube = cube.subcube_from_ds9region(ds9_str)\n",
    "    if moment:\n",
    "        if spectral_range == None:\n",
    "            moment = subcube.moment(order = order)\n",
    "        else:\n",
    "            moment = subcube.spectral_slab(spectral_range).moment(order = order)\n",
    "        spectrum = np.nanmean(moment.value) * moment.unit\n",
    "    else:\n",
    "        spectrum = subcube.mean(axis = (1,2))\n",
    "            \n",
    "    return spectrum\n",
    "\n",
    "def wham_observations(cube, wham_pointings, noise = 0.01, **kwargs):\n",
    "    output_pointings = copy.deepcopy(wham_pointings)\n",
    "    if 'moment' in kwargs:\n",
    "        if 'order' in kwargs:\n",
    "            if kwargs[\"order\"] == 1:\n",
    "                moment_values = np.empty(len(output_pointings)) << u.m/u.s\n",
    "            else:\n",
    "                moment_values = np.empty(len(output_pointings)) << u.R\n",
    "    for ell, pointing in enumerate(output_pointings):\n",
    "        spectrum = wham_obs(cube, pointing)\n",
    "        moment_values[ell] = wham_obs(cube, pointing, **kwargs)\n",
    "        output_pointings[ell][\"DATA\"] = spectrum.to(u.R/(u.km/u.s)).value\n",
    "        output_pointings[ell][\"VAR\"] = (noise * np.abs(np.random.randn(len(pointing[\"VAR\"]))))**2.\n",
    "    return output_pointings, moment_values"
   ]
  },
  {
   "cell_type": "code",
   "execution_count": null,
   "metadata": {},
   "outputs": [],
   "source": [
    "wham_baade = scipy.io.idl.readsav('baade_ha.sav', python_dict = True)"
   ]
  },
  {
   "cell_type": "code",
   "execution_count": null,
   "metadata": {},
   "outputs": [],
   "source": [
    "model_wham_obs, model_wham_mom = wham_observations(model_ha, \n",
    "                                                   wham_baade[\"baade\"], \n",
    "                                                   moment = True, \n",
    "                                                   order = 0)"
   ]
  },
  {
   "cell_type": "code",
   "execution_count": null,
   "metadata": {},
   "outputs": [],
   "source": [
    "_, model_wham_vel = wham_observations(sub_model, \n",
    "                                                   wham_baade[\"baade\"], \n",
    "                                                   moment = True, \n",
    "                                                   order = 1)"
   ]
  },
  {
   "cell_type": "code",
   "execution_count": null,
   "metadata": {},
   "outputs": [],
   "source": [
    "lon = model_wham_obs[\"GLON\"]\n",
    "lat = model_wham_obs[\"GLAT\"]\n",
    "ha_int = np.log10(wham_baade[\"baade_mom\"][:,0])\n",
    "ha_vel = wham_baade[\"baade_mom\"][:,1]\n",
    "model_ha_int = np.log10(model_wham_mom.value)\n",
    "model_ha_vel = model_wham_vel.to(u.km/u.s)\n",
    "\n",
    "intensity_msk = ha_int > -1.\n",
    "mean_velocity_msk = (ha_vel < -55.) & (ha_vel > -90.)\n",
    "\n",
    "fitting_msk = intensity_msk & mean_velocity_msk\n",
    "#Manual additons to mask\n",
    "fitting_msk[20] = False # Manually Masked"
   ]
  },
  {
   "cell_type": "code",
   "execution_count": null,
   "metadata": {},
   "outputs": [],
   "source": [
    "# Set points for highlighting\n",
    "bpt_points = [1, 9, 12, 20]\n",
    "nii_points = [2, 3, 4, 7, 8, 15]"
   ]
  },
  {
   "cell_type": "code",
   "execution_count": null,
   "metadata": {},
   "outputs": [],
   "source": [
    "wham_baade[\"baade\"][\"GLON\"][bpt_points]"
   ]
  },
  {
   "cell_type": "code",
   "execution_count": null,
   "metadata": {},
   "outputs": [],
   "source": [
    "wham_baade[\"baade\"].dtype.names"
   ]
  },
  {
   "cell_type": "code",
   "execution_count": null,
   "metadata": {},
   "outputs": [],
   "source": [
    "wham_baade[\"baade\"][\"GLAT\"][bpt_points]"
   ]
  },
  {
   "cell_type": "code",
   "execution_count": null,
   "metadata": {},
   "outputs": [],
   "source": [
    "fig = plt.figure(figsize = (9,9))\n",
    "ax = fig.add_subplot(111)\n",
    "\n",
    "s =3300\n",
    "vmin = -1.\n",
    "vmax = 1\n",
    "\n",
    "\n",
    "sc = ax.scatter(lon,lat,s = s, c = model_ha_int, vmin= vmin, vmax = vmax, cmap = 'Reds')\n",
    "scv = ax.scatter(lon,lat,s = s/10, c = model_ha_vel, vmin= -110, vmax = -40, cmap = 'RdBu_r')\n",
    "\n",
    "ax.scatter(lon[fitting_msk],lat[fitting_msk],facecolors='none', edgecolors='black', s = s, lw = 2)\n",
    "    \n",
    "ax.invert_xaxis()\n",
    "\n",
    "cbar = plt.colorbar(sc)\n",
    "cbar2 = plt.colorbar(scv, orientation = 'horizontal')\n",
    "cbar2.set_label(r'Mean Velocity (km/s)', fontsize = 15)\n",
    "cbar.set_label(r'Log H$\\alpha$ Intensity (Log Rayleighs)', fontsize = 15)\n",
    "cbar.ax.tick_params(labelsize = 15)\n",
    "cbar2.ax.tick_params(labelsize = 15)\n",
    "\n",
    "ax.set_xlabel('Galactic Longitude (deg)', fontsize = 15)\n",
    "ax.set_ylabel('Galactic Latitude (deg)', fontsize = 15)\n",
    "ax.tick_params(labelsize = 15)\n",
    "ax.set_aspect('equal')\n",
    "\n",
    "xlim_map = ax.get_xlim()\n",
    "ylim_map = ax.get_ylim()"
   ]
  },
  {
   "cell_type": "markdown",
   "metadata": {},
   "source": [
    "# Figure S2"
   ]
  },
  {
   "cell_type": "code",
   "execution_count": null,
   "metadata": {
    "scrolled": false
   },
   "outputs": [],
   "source": [
    "fig = plt.figure(figsize = (10,9))\n",
    "gs = gridspec.GridSpec(14, 12, figure = fig, wspace = 0.02, hspace = 0.02)\n",
    "\n",
    "vel = model_ha.spectral_axis.to(u.km/u.s).value\n",
    "\n",
    "supax = fig.add_subplot(gs[:,:])\n",
    "supax.grid(False)\n",
    "supax.set_xlim(xlim_map)\n",
    "supax.set_ylim(ylim_map)\n",
    "supax.set_xlabel('Galactic Longitude (deg)', fontsize = 15)\n",
    "supax.tick_params(labelsize = 15)\n",
    "supax.set_ylabel('Galactic Latitude (deg)', fontsize = 15)\n",
    "\n",
    "\n",
    "axes = []\n",
    "\n",
    "axes.append(fig.add_subplot(gs[6:8,9:11]))\n",
    "axes.append(fig.add_subplot(gs[6:8,7:9]))\n",
    "axes.append(fig.add_subplot(gs[6:8,5:7]))\n",
    "axes.append(fig.add_subplot(gs[6:8,3:5]))\n",
    "axes.append(fig.add_subplot(gs[6:8,1:3]))\n",
    "\n",
    "axes.append(fig.add_subplot(gs[4:6,0:2]))\n",
    "axes.append(fig.add_subplot(gs[4:6,2:4]))\n",
    "axes.append(fig.add_subplot(gs[4:6,4:6]))\n",
    "axes.append(fig.add_subplot(gs[4:6,6:8]))\n",
    "axes.append(fig.add_subplot(gs[4:6,8:10]))\n",
    "axes.append(fig.add_subplot(gs[4:6,10:12]))\n",
    "\n",
    "axes.append(fig.add_subplot(gs[2:4,9:11]))\n",
    "axes.append(fig.add_subplot(gs[2:4,7:9]))\n",
    "axes.append(fig.add_subplot(gs[2:4,5:7]))\n",
    "axes.append(fig.add_subplot(gs[2:4,3:5]))\n",
    "axes.append(fig.add_subplot(gs[2:4,1:3]))\n",
    "\n",
    "axes.append(fig.add_subplot(gs[0:2,0:2]))\n",
    "axes.append(fig.add_subplot(gs[0:2,2:4]))\n",
    "axes.append(fig.add_subplot(gs[0:2,4:6]))\n",
    "axes.append(fig.add_subplot(gs[0:2,6:8]))\n",
    "axes.append(fig.add_subplot(gs[0:2,8:10]))\n",
    "axes.append(fig.add_subplot(gs[0:2,10:12]))\n",
    "\n",
    "axes.append(fig.add_subplot(gs[12:14,10:12]))\n",
    "axes.append(fig.add_subplot(gs[12:14,8:10]))\n",
    "axes.append(fig.add_subplot(gs[12:14,6:8]))\n",
    "axes.append(fig.add_subplot(gs[12:14,4:6]))\n",
    "axes.append(fig.add_subplot(gs[12:14,2:4]))\n",
    "axes.append(fig.add_subplot(gs[12:14,0:2]))\n",
    "\n",
    "axes.append(fig.add_subplot(gs[10:12,1:3]))\n",
    "axes.append(fig.add_subplot(gs[10:12,3:5]))\n",
    "axes.append(fig.add_subplot(gs[10:12,5:7]))\n",
    "axes.append(fig.add_subplot(gs[10:12,7:9]))\n",
    "axes.append(fig.add_subplot(gs[10:12,9:11]))\n",
    "\n",
    "axes.append(fig.add_subplot(gs[8:10,10:12]))\n",
    "axes.append(fig.add_subplot(gs[8:10,8:10]))\n",
    "axes.append(fig.add_subplot(gs[8:10,6:8]))\n",
    "axes.append(fig.add_subplot(gs[8:10,4:6]))\n",
    "axes.append(fig.add_subplot(gs[8:10,2:4]))\n",
    "axes.append(fig.add_subplot(gs[8:10,0:2]))\n",
    "\n",
    "for ell, ax in enumerate(axes):\n",
    "    x = wham_baade[\"baade\"][ell][\"VEL\"]\n",
    "    y = wham_baade[\"baade\"][ell][\"DATA\"]\n",
    "    vel_to_plot = (x <= -20) & (x >= -150)\n",
    "    if ell == 0:\n",
    "        ax.plot(x[vel_to_plot], y[vel_to_plot], \"-\", color = pal[0], label = \"WHAM\")\n",
    "    else:\n",
    "        ax.plot(x[vel_to_plot], y[vel_to_plot], \"-\", color = pal[0])\n",
    "    xlim = ax.get_xlim()\n",
    "    ylim = ax.set_ylim()\n",
    "    if ell == 0:\n",
    "        ax.plot(vel, model_wham_obs[ell][\"DATA\"], \"--\", color = pal[1], lw = 3, label = \"Model\")\n",
    "    else:\n",
    "        ax.plot(vel, model_wham_obs[ell][\"DATA\"], \"--\", color = pal[1], lw = 3)\n",
    "        \n",
    "    ax.fill_betweenx([-.01, .04], [-40, -40], [0,0], \n",
    "                         color = \"k\", alpha = 0.1, zorder = 0)\n",
    "    ax.set_xlim(xlim)\n",
    "    if fitting_msk[ell]:\n",
    "        ax.spines['bottom'].set_linewidth(6)\n",
    "        ax.spines['bottom'].set_color(\"k\")\n",
    "        ax.spines['top'].set_linewidth(6)\n",
    "        ax.spines['top'].set_color(\"k\")\n",
    "        ax.spines['right'].set_linewidth(4)\n",
    "        ax.spines['right'].set_color(\"k\")\n",
    "        ax.spines['left'].set_linewidth(4)\n",
    "        ax.spines['left'].set_color(\"k\")\n",
    "        ax.fill_betweenx([-.01, .04], [-45, -45], [-110, -110], \n",
    "                         color = pal[2], alpha = 0.2, zorder = 0)\n",
    "    if ell in bpt_points:\n",
    "        ax.text(-105, 0.024, \"*\", fontsize = 35, color = pal[3], weight='bold',\n",
    "                horizontalalignment='center', \n",
    "                verticalalignment='center')\n",
    "    if ell in nii_points:\n",
    "        ax.text(-105, 0.028, \"#\", fontsize = 20, color = pal[4], weight='bold',\n",
    "                horizontalalignment='center', \n",
    "                verticalalignment='center')\n",
    "    ax.set_ylim([-0.01,0.04])\n",
    "    ax.grid(False)\n",
    "    ax.set_xticks([])\n",
    "    ax.set_yticks([])\n",
    "\n",
    "fig.text(0.39, 0.89, \"Observed (WHAM)\", ha=\"center\", va=\"bottom\", size=16,color=pal[0])\n",
    "fig.text(0.5, 0.89, \"&\", ha=\"center\", va=\"bottom\", size=16)\n",
    "fig.text(0.56,0.89,\"Modeled\", ha=\"center\", va=\"bottom\", size=16,color=pal[1])\n",
    "fig.text(0.645,0.89,\"Spectra\", ha=\"center\", va=\"bottom\", size=16,color=\"k\")\n",
    "\n",
    "plt.tight_layout()\n",
    "\n",
    "# plt.savefig(\"FigureS3.png\", dpi = 300, transparent = True)\n",
    "# plt.savefig(\"FigureS3.svg\", transparent = True)"
   ]
  },
  {
   "cell_type": "code",
   "execution_count": null,
   "metadata": {},
   "outputs": [],
   "source": []
  }
 ],
 "metadata": {
  "kernelspec": {
   "display_name": "Python 3",
   "language": "python",
   "name": "python3"
  },
  "language_info": {
   "codemirror_mode": {
    "name": "ipython",
    "version": 3
   },
   "file_extension": ".py",
   "mimetype": "text/x-python",
   "name": "python",
   "nbconvert_exporter": "python",
   "pygments_lexer": "ipython3",
   "version": "3.7.4"
  }
 },
 "nbformat": 4,
 "nbformat_minor": 2
}
